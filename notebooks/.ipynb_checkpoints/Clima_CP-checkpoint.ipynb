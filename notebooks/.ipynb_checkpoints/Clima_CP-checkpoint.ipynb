{
 "cells": [
  {
   "cell_type": "code",
   "execution_count": 1,
   "id": "c3d7a7f8",
   "metadata": {
    "ExecuteTime": {
     "end_time": "2022-11-11T17:28:27.332581Z",
     "start_time": "2022-11-11T17:28:26.444756Z"
    }
   },
   "outputs": [],
   "source": [
    "import pandas as pd\n",
    "import calplot\n",
    "import matplotlib.pyplot as plt\n",
    "import time\n",
    "from datetime import datetime, timedelta\n",
    "import os\n",
    "from kedro.extras.datasets.pandas import GBQQueryDataSet\n",
    "os.environ[\"GOOGLE_APPLICATION_CREDENTIALS\"] = f\"/mnt/imported/code/Analysis_scripts/DS/learntorank/conf/base/creds.json\"\n",
    "\n",
    "from tqdm.auto import tqdm\n",
    "from p_tqdm import p_map"
   ]
  },
  {
   "cell_type": "code",
   "execution_count": null,
   "id": "6d2b7c78",
   "metadata": {},
   "outputs": [],
   "source": [
    "os.chdir('/mnt/imported/code/Analysis_scripts/DS/learntorank')\n",
    "os.getcwd()"
   ]
  },
  {
   "cell_type": "code",
   "execution_count": null,
   "id": "29196d89",
   "metadata": {},
   "outputs": [],
   "source": [
    "!ls /mnt/code/airflow/"
   ]
  },
  {
   "cell_type": "code",
   "execution_count": null,
   "id": "b2d4112a",
   "metadata": {
    "ExecuteTime": {
     "end_time": "2022-11-09T20:30:29.184698Z",
     "start_time": "2022-11-09T20:30:29.172812Z"
    }
   },
   "outputs": [],
   "source": [
    "df_raw = pd.read_csv(os.getcwd()+'/data/01_raw/protocols_cp.csv')\n",
    "df_raw"
   ]
  },
  {
   "cell_type": "code",
   "execution_count": null,
   "id": "8ad8eff4",
   "metadata": {
    "ExecuteTime": {
     "end_time": "2022-11-09T20:30:32.854540Z",
     "start_time": "2022-11-09T20:30:32.851080Z"
    }
   },
   "outputs": [],
   "source": [
    "df = df_raw[['FIELD_Loc_longitude','FIELD_Loc_latitude','FIELD_locationName','Clima','FIELD_plantingDate','FIELD_harvestDate']]\n",
    "df.columns = ['lon', 'lat','loc','weather','seed','harvs']"
   ]
  },
  {
   "cell_type": "code",
   "execution_count": null,
   "id": "6f039457",
   "metadata": {
    "ExecuteTime": {
     "end_time": "2022-11-09T20:30:34.354168Z",
     "start_time": "2022-11-09T20:30:34.348158Z"
    }
   },
   "outputs": [],
   "source": [
    "df = df.loc[[0,1,4,5,6,7,9,11]]\n",
    "df[['seed','harvs']] = df[['seed','harvs']].apply(pd.to_datetime, format=\"%Y-%m-%d\")\n"
   ]
  },
  {
   "cell_type": "code",
   "execution_count": null,
   "id": "d760908d",
   "metadata": {
    "ExecuteTime": {
     "end_time": "2022-11-09T20:30:41.657186Z",
     "start_time": "2022-11-09T20:30:41.648651Z"
    }
   },
   "outputs": [],
   "source": [
    "#df=df.loc[[6]]\n",
    "df"
   ]
  },
  {
   "cell_type": "code",
   "execution_count": null,
   "id": "f3ce01fa",
   "metadata": {},
   "outputs": [],
   "source": [
    "def runQuery(query): \n",
    "      df=GBQQueryDataSet(query, project='location360-datasets').load()\n",
    "      return df\n",
    "\n",
    "#num_cores = os.cpu_count()-2\n",
    "num_cores = 5\n",
    "yesterday = (datetime.today() - timedelta(days=1)).strftime('%Y-%m-%d')\n",
    "seq_date=pd.date_range(start=\"2021-12-31\",end=yesterday, periods=num_cores).to_pydatetime()\n"
   ]
  },
  {
   "cell_type": "markdown",
   "id": "00bc52a5",
   "metadata": {},
   "source": [
    "#  Wetting-Period Duration "
   ]
  },
  {
   "cell_type": "code",
   "execution_count": null,
   "id": "48641eb2",
   "metadata": {},
   "outputs": [],
   "source": [
    "for index, row in df.iterrows():\n",
    "\n",
    "  t = time.time()\n",
    "  coords = {'lon':row['lon'], 'lat':row['lat']}\n",
    "  \n",
    "  queries = [] \n",
    "\n",
    "  for i in range(num_cores - 1): \n",
    "    query_i = \"\"\" \n",
    "    DECLARE locations ARRAY<STRUCT<u_lat FLOAT64, u_lon FLOAT64>> DEFAULT [({},{})];\n",
    "    DECLARE u_start_date DATE DEFAULT DATE('{}');\n",
    "    DECLARE u_end_date DATE DEFAULT DATE('{}');\n",
    "    DECLARE u_variables STRING DEFAULT 'relative_humidity';\n",
    "    DECLARE uom STRING DEFAULT 'm';\n",
    "    CALL `location360-datasets.historical_weather.historical_weather_hourly_blend`(locations, u_start_date, u_end_date, u_variables, uom);\n",
    "    \"\"\".format(coords['lat'], coords['lon'], seq_date[i].date() + timedelta(days=1), seq_date[i + 1].date()) \n",
    "    queries.append(query_i)\n",
    "\n",
    "    \n",
    "  results = p_map(runQuery, queries, **{\"num_cpus\": num_cores})\n",
    "\n",
    "  df_rh = pd.concat(results)\n",
    "  df_rh.index = pd.to_datetime(df_rh['local_time'],format='%Y-%m-%d %H:%M:%S')\n",
    "  df_rh.sort_index(inplace=True)\n",
    "\n",
    "  df_rh_night = df_rh['relative_humidity'].between_time('18:00', '06:00')\n",
    "    \n",
    "  df_rh_90 = df_rh_night[df_rh_night > 90]\n",
    "    \n",
    "  WPD = df_rh_90.groupby(by=[df_rh_90.index.year, df_rh_90.index.month, df_rh_90.index.day]).count()\n",
    "  WPD.index = pd.to_datetime(WPD.index.get_level_values(0).astype(str) + '-' +\n",
    "              WPD.index.get_level_values(1).astype(str) + '-' +\n",
    "              WPD.index.get_level_values(2).astype(str),\n",
    "              format='%Y-%m-%d')\n",
    "\n",
    "  WPD_hours = 10   \n",
    "  WPD_count = WPD.groupby(by=[WPD.index.year, WPD.index.month]).apply(lambda x: len(x[x>=WPD_hours]))\n",
    "\n",
    "  WPD_count.index = pd.to_datetime(WPD_count.index.get_level_values(0).astype(str) + '-' +\n",
    "              WPD_count.index.get_level_values(1).astype(str),\n",
    "              format='%Y-%m')\n",
    "  \n",
    "  fig, ax = plt.subplots(figsize=(12,5))\n",
    "\n",
    "\n",
    "  WPD_count.plot(color='black', marker='o',figsize=(12,5))\n",
    "  plt.title(row['loc'], fontsize=14)\n",
    "  plt.xlabel('Time', fontsize=12)\n",
    "  plt.ylabel('Days with WPD >= 10h', fontsize=12)\n",
    "      \n",
    "  plt.savefig('/mnt/code/airflow/Ximena/WPD_month_' + row['loc'] + '.png', bbox_inches = 'tight')    \n",
    "\n"
   ]
  },
  {
   "cell_type": "markdown",
   "id": "653e2696",
   "metadata": {},
   "source": [
    "# Temperature and precipitation"
   ]
  },
  {
   "cell_type": "code",
   "execution_count": null,
   "id": "bb60f423",
   "metadata": {},
   "outputs": [],
   "source": [
    "WPD_count\n"
   ]
  },
  {
   "cell_type": "code",
   "execution_count": null,
   "id": "72218b0c",
   "metadata": {},
   "outputs": [],
   "source": [
    "prec_month.index"
   ]
  },
  {
   "cell_type": "code",
   "execution_count": null,
   "id": "12eea94a",
   "metadata": {},
   "outputs": [],
   "source": [
    "WPD_count.index"
   ]
  },
  {
   "cell_type": "code",
   "execution_count": null,
   "id": "3b087a6d",
   "metadata": {},
   "outputs": [],
   "source": [
    "for index, row in df.iterrows():\n",
    " \n",
    "  t = time.time()\n",
    "  coords = {'lon':row['lon'], 'lat':row['lat']}\n",
    "\n",
    "  queries = [] \n",
    "\n",
    "  for i in range(num_cores - 1):\n",
    "    query_i = \"\"\" \n",
    "    DECLARE locations ARRAY<STRUCT<u_lat FLOAT64, u_lon FLOAT64>> DEFAULT [({},{})];\n",
    "    DECLARE u_start_date DATE DEFAULT DATE('{}');\n",
    "    DECLARE u_end_date DATE DEFAULT DATE('{}');\n",
    "    DECLARE u_variables STRING DEFAULT 'min_temperature,max_temperature,total_precipitation';\n",
    "    DECLARE uom STRING DEFAULT 'm';\n",
    "    CALL `location360-datasets.historical_weather.historical_weather_daily_blend`(locations, u_start_date, u_end_date, u_variables, uom);\n",
    "    \"\"\".format(coords['lat'], coords['lon'], seq_date[i].date() + timedelta(days=1), seq_date[i + 1].date()) \n",
    "    queries.append(query_i)\n",
    "    \n",
    "  results = p_map(runQuery, queries, **{\"num_cpus\": num_cores})\n",
    "\n",
    "  df_t_pr = pd.concat(results)\n",
    "  df_t_pr.index = pd.to_datetime(df_t_pr['date'],format='%Y-%m-%d')\n",
    "  df_t_pr.sort_index(inplace=True)\n",
    "  df_t_pr['avg_temp']=(df_t_pr.min_temperature+df_t_pr.max_temperature)/2\n",
    "\n",
    "  temp = df_t_pr['avg_temp']\n",
    "  prec = df_t_pr['total_precipitation']\n",
    "  prec[prec < 2] = 0\n",
    "\n",
    "  prec_month = prec.groupby(by=[prec.index.year, prec.index.month]).sum()\n",
    "\n",
    "  prec_month.index = pd.to_datetime(prec_month.index.get_level_values(0).astype(str) + '-' +\n",
    "              prec_month.index.get_level_values(1).astype(str),\n",
    "              format='%Y-%m')#.strftime('%b')  \n",
    "  \n",
    "  temp_month = temp.groupby(by=[temp.index.year, temp.index.month]).mean()\n",
    "\n",
    "  temp_month.index = pd.to_datetime(temp_month.index.get_level_values(0).astype(str) + '-' +\n",
    "              temp_month.index.get_level_values(1).astype(str),\n",
    "              format='%Y-%m')#.strftime('%b') \n",
    "\n",
    "  fig, ax = plt.subplots(figsize=(12,5))\n",
    "  ax.set_title(row['loc'], fontsize=14)\n",
    "  ax2 = ax.twinx()\n",
    "  prec_month.plot(kind='bar', ax=ax, color='Blue')\n",
    "  ax.set_xticklabels(prec_month.index.strftime('%b\\n%Y'), rotation = 0)\n",
    "  ax.set_xlabel('Time', fontsize=12)\n",
    "  ax2.plot(ax.get_xticks(), temp_month, color='black', marker='o')\n",
    "  ax.set_ylabel('Precipitation (mm)', fontsize=12)\n",
    "  ax.set_yticks([0, 100,200,300,400,500])\n",
    "  ax2.set_ylabel('Temperature (°C)', fontsize=12)\n",
    "  plt.tight_layout()\n",
    "  \n",
    "  plt.savefig('/mnt/code/airflow/Ximena/Prec_temp_month_' + row['loc'] + '.png', bbox_inches = 'tight')  \n"
   ]
  },
  {
   "cell_type": "code",
   "execution_count": null,
   "id": "797a91fa",
   "metadata": {},
   "outputs": [],
   "source": [
    "temp_month.index "
   ]
  },
  {
   "cell_type": "markdown",
   "id": "cc9a9776",
   "metadata": {},
   "source": [
    "#  Wetting-Period Duration Heat Map"
   ]
  },
  {
   "cell_type": "code",
   "execution_count": null,
   "id": "8d228da6",
   "metadata": {
    "ExecuteTime": {
     "end_time": "2022-11-09T20:27:28.403630Z",
     "start_time": "2022-11-09T20:27:28.400001Z"
    }
   },
   "outputs": [],
   "source": [
    "def runQuery(query): \n",
    "      df=GBQQueryDataSet(query, project='location360-datasets').load()\n",
    "      return df\n",
    "\n",
    "num_cores = os.cpu_count()-2\n",
    "\n",
    "yesterday = (datetime.today() - timedelta(days=1)).strftime('%Y-%m-%d')\n",
    "seq_date=pd.date_range(start=\"1999-12-31\",end=yesterday, periods=num_cores).to_pydatetime()\n"
   ]
  },
  {
   "cell_type": "code",
   "execution_count": null,
   "id": "75e643f7",
   "metadata": {
    "ExecuteTime": {
     "end_time": "2022-11-09T20:36:05.928593Z",
     "start_time": "2022-11-09T20:30:57.209452Z"
    }
   },
   "outputs": [],
   "source": [
    "for index, row in df.iterrows():\n",
    "\n",
    "  t = time.time()\n",
    "  coords = {'lon':row['lon'], 'lat':row['lat']}\n",
    "  \n",
    "  queries = [] \n",
    "\n",
    "  for i in range(num_cores - 1): \n",
    "    query_i = \"\"\" \n",
    "    DECLARE locations ARRAY<STRUCT<u_lat FLOAT64, u_lon FLOAT64>> DEFAULT [({},{})];\n",
    "    DECLARE u_start_date DATE DEFAULT DATE('{}');\n",
    "    DECLARE u_end_date DATE DEFAULT DATE('{}');\n",
    "    DECLARE u_variables STRING DEFAULT 'relative_humidity';\n",
    "    DECLARE uom STRING DEFAULT 'm';\n",
    "    CALL `location360-datasets.historical_weather.historical_weather_hourly_blend`(locations, u_start_date, u_end_date, u_variables, uom);\n",
    "    \"\"\".format(coords['lat'], coords['lon'], seq_date[i].date() + timedelta(days=1), seq_date[i + 1].date()) \n",
    "    queries.append(query_i)\n",
    "\n",
    "    \n",
    "  results = p_map(runQuery, queries, **{\"num_cpus\": num_cores})\n",
    "\n",
    "  df_rh = pd.concat(results)\n",
    "  df_rh.index = pd.to_datetime(df_rh['local_time'],format='%Y-%m-%d %H:%M:%S')\n",
    "  df_rh.sort_index(inplace=True)\n",
    "\n",
    "  df_rh_night = df_rh['relative_humidity'].between_time('18:00', '06:00')\n",
    "    \n",
    "  df_rh_90 = df_rh_night[df_rh_night > 90]\n",
    "    \n",
    "  WPD = df_rh_90.groupby(by=[df_rh_90.index.year, df_rh_90.index.month, df_rh_90.index.day]).count()\n",
    "  WPD.index = pd.to_datetime(WPD.index.get_level_values(0).astype(str) + '-' +\n",
    "              WPD.index.get_level_values(1).astype(str) + '-' +\n",
    "              WPD.index.get_level_values(2).astype(str),\n",
    "              format='%Y-%m-%d')\n",
    "\n",
    "  start_day = pd.to_datetime('2017-01-01')\n",
    "  end_day = pd.to_datetime(yesterday)\n",
    "\n",
    "  WPD_serie = WPD.loc[start_day:end_day] \n",
    "\n",
    "  suptitle_kws = dict(ha='center',size=22)\n",
    "  pl1 = calplot.calplot(WPD_serie,cmap = 'RdYlGn_r', figsize = (16, 14), \n",
    "                        textformat  ='{:.0f}',  suptitle_kws = suptitle_kws,\n",
    "                        edgecolor='black', linewidth=2,\n",
    "                        suptitle = row['loc'] + \", weather \" + row['weather'] +\" \\n Number of hours at night with RH > 90% (Wetting-Period Duration - WPD)\")\n",
    "\n",
    "  plt.savefig('/mnt/code/airflow/Ximena/WPD_hist_' + row['loc'] + '.png', bbox_inches = 'tight')\n",
    "\n",
    "  \n",
    "  idx = pd.date_range(\"2000-01-01\",yesterday)\n",
    "  WPD = WPD.reindex(idx,fill_value=0)\n",
    "\n",
    "  # Probability of WPD to be higher than 10h\n",
    "  WPD_hours = 10    \n",
    "  WPD_prob = WPD.groupby(by=[WPD.index.month,WPD.index.day]).apply(lambda x: (len(x[x>=WPD_hours])/len(x))*100)\n",
    "\n",
    "  WPD_prob.index = pd.to_datetime('2000' + '-' + WPD_prob.index.get_level_values(0).astype(str) + '-' +\n",
    "                                   WPD_prob.index.get_level_values(1).astype(str),\n",
    "                                   format='%Y-%m-%d')\n",
    "\n",
    "  yearlabel_kws = dict(color='w',ha='center')\n",
    "  pl2 = calplot.calplot(WPD_prob,cmap = 'Reds', figsize = (16, 3), \n",
    "                        textformat  ='{:.0f}',  yearlabel_kws = yearlabel_kws, suptitle_kws = suptitle_kws,\n",
    "                        edgecolor='black', linewidth=2,\n",
    "                        suptitle = row['loc'] + \", weather \" + row['weather'] + \"\\nProbability of WPD to be equal or higher than 10 h\")\n",
    "\n",
    "  plt.savefig('/mnt/code/airflow/Ximena/WPD_prob_' + row['loc'] + '.png', bbox_inches = 'tight')\n",
    "  \n",
    "  print(time.time() - t)\n",
    "  \n"
   ]
  },
  {
   "cell_type": "code",
   "execution_count": null,
   "id": "8db66622",
   "metadata": {},
   "outputs": [],
   "source": [
    "fig, ax = plt.subplots(figsize=(12,5))\n",
    "ax.set_title(row['loc'], fontsize=14)\n",
    "ax2 = ax.twinx()\n",
    "prec_month.plot(kind='bar', ax=ax, color='Blue')\n",
    "ax.set_xticklabels(prec_month.index.strftime('%b\\n%Y'), rotation = 0)\n",
    "ax.set_xlabel('Time', fontsize=12)\n",
    "ax2.plot(ax.get_xticks(), temp_month, color='black', marker='o')\n",
    "ax.set_ylabel('Precipitation (mm)', fontsize=12)\n",
    "ax.set_yticks([0, 100,200,300,400,500])\n",
    "ax2.set_ylabel('Temperature (°C)', fontsize=12)\n",
    "plt.tight_layout()\n",
    "plt.show()"
   ]
  },
  {
   "cell_type": "code",
   "execution_count": null,
   "id": "cc10ba0d",
   "metadata": {},
   "outputs": [],
   "source": [
    "fig, ax1 = plt.subplots()\n",
    "\n",
    "ax2 = ax1.twinx()\n",
    "ax1.plot(WPD_count.index, y1, 'g-')\n",
    "ax2.plot(x, y2, 'b-')\n",
    "\n",
    "ax1.set_xlabel('X data')\n",
    "ax1.set_ylabel('Y1 data', color='g')\n",
    "ax2.set_ylabel('Y2 data', color='b')\n",
    "\n",
    "plt.show()\n"
   ]
  },
  {
   "cell_type": "code",
   "execution_count": null,
   "id": "1b490371",
   "metadata": {
    "ExecuteTime": {
     "end_time": "2022-11-09T20:40:12.473761Z",
     "start_time": "2022-11-09T20:40:08.759207Z"
    }
   },
   "outputs": [],
   "source": [
    "!pip install jupyterthemes "
   ]
  },
  {
   "cell_type": "code",
   "execution_count": null,
   "id": "e3290b70",
   "metadata": {},
   "outputs": [],
   "source": [
    "!jt -t onedork -fs 95 -altp -tfs 11 -nfs 115 -cellw 88% -T"
   ]
  },
  {
   "cell_type": "code",
   "execution_count": null,
   "id": "846876a9",
   "metadata": {},
   "outputs": [],
   "source": [
    "from IPython.display import Image\n",
    "Image(filename='/mnt/code/airflow/Ximena/Prec_temp_month_Mambore PR BRA.png')\n"
   ]
  }
 ],
 "metadata": {
  "kernelspec": {
   "display_name": "Python 3 (ipykernel)",
   "language": "python",
   "name": "python3"
  },
  "language_info": {
   "codemirror_mode": {
    "name": "ipython",
    "version": 3
   },
   "file_extension": ".py",
   "mimetype": "text/x-python",
   "name": "python",
   "nbconvert_exporter": "python",
   "pygments_lexer": "ipython3",
   "version": "3.8.5"
  },
  "varInspector": {
   "cols": {
    "lenName": 16,
    "lenType": 16,
    "lenVar": 40
   },
   "kernels_config": {
    "python": {
     "delete_cmd_postfix": "",
     "delete_cmd_prefix": "del ",
     "library": "var_list.py",
     "varRefreshCmd": "print(var_dic_list())"
    },
    "r": {
     "delete_cmd_postfix": ") ",
     "delete_cmd_prefix": "rm(",
     "library": "var_list.r",
     "varRefreshCmd": "cat(var_dic_list()) "
    }
   },
   "types_to_exclude": [
    "module",
    "function",
    "builtin_function_or_method",
    "instance",
    "_Feature"
   ],
   "window_display": false
  }
 },
 "nbformat": 4,
 "nbformat_minor": 5
}
